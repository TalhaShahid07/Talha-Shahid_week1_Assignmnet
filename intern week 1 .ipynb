{
 "cells": [
  {
   "cell_type": "code",
   "execution_count": null,
   "id": "409e1f3c-d2da-4128-945d-1603b54eedf6",
   "metadata": {},
   "outputs": [],
   "source": [
    "# assignmnet NO. 1:"
   ]
  },
  {
   "cell_type": "code",
   "execution_count": null,
   "id": "a9c4e174-54ec-4b17-a743-244eaa4d7db1",
   "metadata": {},
   "outputs": [],
   "source": [
    "# Task:"
   ]
  },
  {
   "cell_type": "code",
   "execution_count": 1,
   "id": "c3029399-d8d7-4fb4-94a7-bab8d5b7930c",
   "metadata": {},
   "outputs": [
    {
     "name": "stdin",
     "output_type": "stream",
     "text": [
      "Enter a first number:  22\n",
      "Enter a second number:  15.33\n"
     ]
    },
    {
     "name": "stdout",
     "output_type": "stream",
     "text": [
      "the addition of numbers is: 37.33\n",
      "the substarcting of numbers is: 6.67\n",
      "the multipication of numbers is: 337.26\n",
      "the dividion of numbers is: 1.4350945857795172\n"
     ]
    }
   ],
   "source": [
    "# write a python program to perform basic arithmetic operations.\n",
    "\n",
    "#Please take 2 float numbers for operations\n",
    "\n",
    "num1 = float(input(\"Enter a first number: \"))\n",
    "num2 = float(input(\"Enter a second number: \"))\n",
    "\n",
    "#perform aurtimatic operations\n",
    "add = num1 + num2\n",
    "sub = num1 - num2\n",
    "multiplicaion = num1 * num2 \n",
    "divide = num1 / num2\n",
    "\n",
    "# start resulting the numbers...\n",
    "print (\"the addition of numbers is:\",  add)\n",
    "print (\"the substarcting of numbers is:\",  sub)\n",
    "print (\"the multipication of numbers is:\", multiplicaion )\n",
    "print (\"the dividion of numbers is:\", divide )"
   ]
  },
  {
   "cell_type": "code",
   "execution_count": 2,
   "id": "43913b47-1a3d-4d41-b435-ab4ed9d71600",
   "metadata": {},
   "outputs": [
    {
     "name": "stdin",
     "output_type": "stream",
     "text": [
      "Enter a number:  123456789\n"
     ]
    },
    {
     "name": "stdout",
     "output_type": "stream",
     "text": [
      "The number is positive\n"
     ]
    }
   ],
   "source": [
    "# 2.\n",
    "# Create a program to perform that uses conditionl statements to determine if a number a is positive, negative or zero.\n",
    "\n",
    "number = float(input(\"Enter a number: \"))\n",
    "\n",
    "if number > 0:\n",
    "    print(\"The number is positive\")\n",
    "elif number < 0:\n",
    "    print(\"The number is negative\")\n",
    "else:\n",
    "    print(\"The number is zero\")\n",
    "    "
   ]
  },
  {
   "cell_type": "code",
   "execution_count": 4,
   "id": "600ed649-7637-4a91-a104-20a337439a51",
   "metadata": {},
   "outputs": [
    {
     "name": "stdin",
     "output_type": "stream",
     "text": [
      "Enter a string:  talha shahid maqsoodahmad chaudhary...\n"
     ]
    },
    {
     "name": "stdout",
     "output_type": "stream",
     "text": [
      "...yrahduahc damhadoosqam dihahs ahlat\n"
     ]
    }
   ],
   "source": [
    "# 3.\n",
    "# write a script that accepts user input and display it in reverse order.\n",
    "#first get the string for reverse \n",
    "\n",
    "string = input(\"Enter a string: \")\n",
    "\n",
    "# now reverse it.\n",
    "reserved_string = string [::-1]\n",
    "\n",
    "# print the reversed string:\n",
    "print (reserved_string)"
   ]
  },
  {
   "cell_type": "code",
   "execution_count": null,
   "id": "024d78e2-a587-4e03-934a-0a945acdccb2",
   "metadata": {},
   "outputs": [],
   "source": []
  }
 ],
 "metadata": {
  "kernelspec": {
   "display_name": "Python 3 (ipykernel)",
   "language": "python",
   "name": "python3"
  },
  "language_info": {
   "codemirror_mode": {
    "name": "ipython",
    "version": 3
   },
   "file_extension": ".py",
   "mimetype": "text/x-python",
   "name": "python",
   "nbconvert_exporter": "python",
   "pygments_lexer": "ipython3",
   "version": "3.12.4"
  }
 },
 "nbformat": 4,
 "nbformat_minor": 5
}
